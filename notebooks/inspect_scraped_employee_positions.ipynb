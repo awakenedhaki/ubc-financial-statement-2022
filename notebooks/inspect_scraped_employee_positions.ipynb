{
 "cells": [
  {
   "cell_type": "markdown",
   "metadata": {},
   "source": [
    "## Library Packages"
   ]
  },
  {
   "cell_type": "code",
   "execution_count": null,
   "metadata": {},
   "outputs": [],
   "source": [
    "import re\n",
    "import json\n",
    "\n",
    "from pathlib import Path\n",
    "from operator import itemgetter"
   ]
  },
  {
   "cell_type": "markdown",
   "metadata": {},
   "source": [
    "## Constants + Helper Functions"
   ]
  },
  {
   "cell_type": "code",
   "execution_count": null,
   "metadata": {},
   "outputs": [],
   "source": [
    "DATA = Path.cwd().parent / \"data\"\n",
    "TMP = DATA / \"tmp\"\n",
    "\n",
    "count = itemgetter(1)"
   ]
  },
  {
   "cell_type": "markdown",
   "metadata": {},
   "source": [
    "## Inspect Employee Positions"
   ]
  },
  {
   "cell_type": "code",
   "execution_count": null,
   "metadata": {},
   "outputs": [],
   "source": [
    "with (DATA / \"references\" / \"employees.json\").open(mode=\"r\") as f:\n",
    "    employees = json.load(f)"
   ]
  },
  {
   "cell_type": "markdown",
   "metadata": {},
   "source": [
    "## Inspecting Scraper Log"
   ]
  },
  {
   "cell_type": "markdown",
   "metadata": {},
   "source": [
    "### Missing Results"
   ]
  },
  {
   "cell_type": "code",
   "execution_count": null,
   "metadata": {},
   "outputs": [],
   "source": [
    "with open(\"../employees_scraping.log\", mode=\"r\") as f:\n",
    "    warnings = []\n",
    "    for line in f.readlines():\n",
    "        if \"WARNING\" in line:\n",
    "            warnings.append(line.strip())\n",
    "len(warnings)"
   ]
  },
  {
   "cell_type": "markdown",
   "metadata": {},
   "source": [
    "### Greater than n Result"
   ]
  },
  {
   "cell_type": "code",
   "execution_count": null,
   "metadata": {},
   "outputs": [],
   "source": [
    "employee_results_counts = {name: len(results) for name, results in employees.items()}\n",
    "\n",
    "n = 3\n",
    "ambiguous_results = dict(\n",
    "    sorted(\n",
    "        filter(lambda employee: count(employee) >= n, employee_results_counts.items()),\n",
    "        key=itemgetter(1),\n",
    "        reverse=True,\n",
    "    )\n",
    ")\n",
    "len(ambiguous_results)"
   ]
  },
  {
   "cell_type": "code",
   "execution_count": null,
   "metadata": {},
   "outputs": [],
   "source": [
    "ambiguous_employees = {}\n",
    "for employee_name in ambiguous_results.keys():\n",
    "    ambiguous_employees[employee_name] = employees[employee_name]\n",
    "\n",
    "with (TMP / \"ambiguous_employees_more_than_3.json\").open(mode=\"w\") as f:\n",
    "    json.dump(ambiguous_employees, f)"
   ]
  },
  {
   "cell_type": "markdown",
   "metadata": {},
   "source": [
    "### Number of Professors"
   ]
  },
  {
   "cell_type": "code",
   "execution_count": null,
   "metadata": {},
   "outputs": [],
   "source": [
    "employees_with_professor_title = []\n",
    "for employee, results in employees.items():\n",
    "    for result in results:\n",
    "        if re.search(pattern=\"Professor\", string=\" \".join(result)):\n",
    "            employees_with_professor_title.append(result)\n",
    "            break"
   ]
  },
  {
   "cell_type": "code",
   "execution_count": null,
   "metadata": {},
   "outputs": [],
   "source": [
    "len(employees_with_professor_title)"
   ]
  }
 ],
 "metadata": {
  "kernelspec": {
   "display_name": "data-analysis",
   "language": "python",
   "name": "python3"
  },
  "language_info": {
   "codemirror_mode": {
    "name": "ipython",
    "version": 3
   },
   "file_extension": ".py",
   "mimetype": "text/x-python",
   "name": "python",
   "nbconvert_exporter": "python",
   "pygments_lexer": "ipython3",
   "version": "3.9.13"
  },
  "orig_nbformat": 4
 },
 "nbformat": 4,
 "nbformat_minor": 2
}
