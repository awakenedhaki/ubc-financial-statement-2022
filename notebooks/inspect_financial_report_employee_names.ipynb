{
 "cells": [
  {
   "cell_type": "markdown",
   "metadata": {},
   "source": [
    "## Loading Packages"
   ]
  },
  {
   "cell_type": "code",
   "execution_count": 14,
   "metadata": {},
   "outputs": [],
   "source": [
    "import numpy as np\n",
    "import pandas as pd\n",
    "from pathlib import Path\n",
    "\n",
    "DATA = Path.cwd().parent / \"data\""
   ]
  },
  {
   "cell_type": "markdown",
   "metadata": {},
   "source": [
    "## Loading Employees Data"
   ]
  },
  {
   "cell_type": "code",
   "execution_count": null,
   "metadata": {},
   "outputs": [],
   "source": [
    "employees = pd.read_csv(DATA / \"processed\" / \"all_remunerations.csv\")"
   ]
  },
  {
   "cell_type": "markdown",
   "metadata": {},
   "source": [
    "## Employee Name Inspection"
   ]
  },
  {
   "cell_type": "markdown",
   "metadata": {},
   "source": [
    "### Duplicate Names"
   ]
  },
  {
   "cell_type": "code",
   "execution_count": 11,
   "metadata": {},
   "outputs": [
    {
     "data": {
      "text/plain": [
       "name                   \n",
       "Lee, Karen                 2\n",
       "Martin, Tara               2\n",
       "Gill, Parm                 2\n",
       "Madden, John               2\n",
       "Wong, Ken                  2\n",
       "Wong, Kenneth              2\n",
       "Black, Jennifer            2\n",
       "Reid, Andrea               2\n",
       "Macdonald, Christopher     2\n",
       "Harvey, Laura              2\n",
       "Ananthanarayana, Girish    2\n",
       "Wilson, Brian              2\n",
       "Wong, Helen                2\n",
       "Johnson, James             2\n",
       "Carroll, Michael           2\n",
       "Moore, David               2\n",
       "Wang, Fei                  2\n",
       "Wong, Vincent              2\n",
       "Liu, Jie                   2\n",
       "Moss, Laura                2\n",
       "Lee, Steven                2\n",
       "Joseph, Paul               2\n",
       "Ng, Yvonne                 2\n",
       "Jones, David               2\n",
       "Liu, Sandy                 2\n",
       "Douglas, Jennifer          2\n",
       "Tsang, Teresa              2\n",
       "Lee, Michael               2\n",
       "Name: count, dtype: int64"
      ]
     },
     "execution_count": 11,
     "metadata": {},
     "output_type": "execute_result"
    }
   ],
   "source": [
    "name_counts = employees[[\"name\"]].value_counts()\n",
    "name_counts[name_counts > 1]"
   ]
  },
  {
   "cell_type": "markdown",
   "metadata": {},
   "source": [
    "### Ambiguous Names"
   ]
  },
  {
   "cell_type": "code",
   "execution_count": 25,
   "metadata": {},
   "outputs": [
    {
     "data": {
      "text/html": [
       "<div>\n",
       "<style scoped>\n",
       "    .dataframe tbody tr th:only-of-type {\n",
       "        vertical-align: middle;\n",
       "    }\n",
       "\n",
       "    .dataframe tbody tr th {\n",
       "        vertical-align: top;\n",
       "    }\n",
       "\n",
       "    .dataframe thead th {\n",
       "        text-align: right;\n",
       "    }\n",
       "</style>\n",
       "<table border=\"1\" class=\"dataframe\">\n",
       "  <thead>\n",
       "    <tr style=\"text-align: right;\">\n",
       "      <th></th>\n",
       "      <th>name</th>\n",
       "      <th>remuneration</th>\n",
       "      <th>expenses</th>\n",
       "      <th>ambiguous_name</th>\n",
       "    </tr>\n",
       "  </thead>\n",
       "  <tbody>\n",
       "    <tr>\n",
       "      <th>20</th>\n",
       "      <td>Abe, Masumi</td>\n",
       "      <td>101245</td>\n",
       "      <td>2447.0</td>\n",
       "      <td>Melania</td>\n",
       "    </tr>\n",
       "    <tr>\n",
       "      <th>21</th>\n",
       "      <td>Adem, Maria Luisa</td>\n",
       "      <td>102205</td>\n",
       "      <td>435.0</td>\n",
       "      <td>Melania</td>\n",
       "    </tr>\n",
       "    <tr>\n",
       "      <th>61</th>\n",
       "      <td>Agawa, Philip</td>\n",
       "      <td>84549</td>\n",
       "      <td>NaN</td>\n",
       "      <td>Jose</td>\n",
       "    </tr>\n",
       "    <tr>\n",
       "      <th>62</th>\n",
       "      <td>Alava Saltos, Juan</td>\n",
       "      <td>85803</td>\n",
       "      <td>2326.0</td>\n",
       "      <td>Jose</td>\n",
       "    </tr>\n",
       "    <tr>\n",
       "      <th>86</th>\n",
       "      <td>Algar, Russ</td>\n",
       "      <td>199153</td>\n",
       "      <td>NaN</td>\n",
       "      <td>Israr</td>\n",
       "    </tr>\n",
       "    <tr>\n",
       "      <th>...</th>\n",
       "      <td>...</td>\n",
       "      <td>...</td>\n",
       "      <td>...</td>\n",
       "      <td>...</td>\n",
       "    </tr>\n",
       "    <tr>\n",
       "      <th>7256</th>\n",
       "      <td>Yue, Elizabeth Fong-</td>\n",
       "      <td>89316</td>\n",
       "      <td>93.0</td>\n",
       "      <td>Ning</td>\n",
       "    </tr>\n",
       "    <tr>\n",
       "      <th>7262</th>\n",
       "      <td>Yuen, David</td>\n",
       "      <td>80067</td>\n",
       "      <td>1082.0</td>\n",
       "      <td>Hossein</td>\n",
       "    </tr>\n",
       "    <tr>\n",
       "      <th>7263</th>\n",
       "      <td>Zarifi, Mohammad</td>\n",
       "      <td>124986</td>\n",
       "      <td>7548.0</td>\n",
       "      <td>Hossein</td>\n",
       "    </tr>\n",
       "    <tr>\n",
       "      <th>7271</th>\n",
       "      <td>Yuen, Macaire Man</td>\n",
       "      <td>89471</td>\n",
       "      <td>550.0</td>\n",
       "      <td>Saint</td>\n",
       "    </tr>\n",
       "    <tr>\n",
       "      <th>7272</th>\n",
       "      <td>Zawistowski, Jerzy</td>\n",
       "      <td>124936</td>\n",
       "      <td>1016.0</td>\n",
       "      <td>Saint</td>\n",
       "    </tr>\n",
       "  </tbody>\n",
       "</table>\n",
       "<p>323 rows × 4 columns</p>\n",
       "</div>"
      ],
      "text/plain": [
       "                      name  remuneration  expenses ambiguous_name\n",
       "20             Abe, Masumi        101245    2447.0        Melania\n",
       "21       Adem, Maria Luisa        102205     435.0        Melania\n",
       "61           Agawa, Philip         84549       NaN           Jose\n",
       "62      Alava Saltos, Juan         85803    2326.0           Jose\n",
       "86             Algar, Russ        199153       NaN          Israr\n",
       "...                    ...           ...       ...            ...\n",
       "7256  Yue, Elizabeth Fong-         89316      93.0           Ning\n",
       "7262           Yuen, David         80067    1082.0        Hossein\n",
       "7263      Zarifi, Mohammad        124986    7548.0        Hossein\n",
       "7271     Yuen, Macaire Man         89471     550.0          Saint\n",
       "7272    Zawistowski, Jerzy        124936    1016.0          Saint\n",
       "\n",
       "[323 rows x 4 columns]"
      ]
     },
     "execution_count": 25,
     "metadata": {},
     "output_type": "execute_result"
    }
   ],
   "source": [
    "employees[~employees[\"ambiguous_name\"].isnull()]"
   ]
  }
 ],
 "metadata": {
  "kernelspec": {
   "display_name": "data-analysis",
   "language": "python",
   "name": "python3"
  },
  "language_info": {
   "codemirror_mode": {
    "name": "ipython",
    "version": 3
   },
   "file_extension": ".py",
   "mimetype": "text/x-python",
   "name": "python",
   "nbconvert_exporter": "python",
   "pygments_lexer": "ipython3",
   "version": "3.9.13"
  },
  "orig_nbformat": 4
 },
 "nbformat": 4,
 "nbformat_minor": 2
}
